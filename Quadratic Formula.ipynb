{
 "cells": [
  {
   "cell_type": "code",
   "execution_count": 4,
   "id": "d5269013",
   "metadata": {},
   "outputs": [],
   "source": [
    "from manim import *\n",
    "from manim_voiceover import VoiceoverScene\n",
    "from manim_voiceover.services.gtts import GTTSService\n"
   ]
  },
  {
   "cell_type": "markdown",
   "id": "4751c8f6",
   "metadata": {},
   "source": [
    "# Intro"
   ]
  },
  {
   "cell_type": "code",
   "execution_count": 19,
   "id": "0a09e640",
   "metadata": {},
   "outputs": [
    {
     "name": "stderr",
     "output_type": "stream",
     "text": [
      "                                                                                                     \r"
     ]
    },
    {
     "data": {
      "text/html": [
       "<video src=\"media/jupyter/Intro@2023-05-06@08-08-02.mp4\" controls autoplay loop style=\"max-width: 60%;\"  >\n",
       "      Your browser does not support the <code>video</code> element.\n",
       "    </video>"
      ],
      "text/plain": [
       "<IPython.core.display.Video object>"
      ]
     },
     "metadata": {},
     "output_type": "display_data"
    }
   ],
   "source": [
    "%%manim -qm -v WARNING Intro\n",
    "\n",
    "\n",
    "class Intro(VoiceoverScene):\n",
    "    def construct(self):\n",
    "        text = Text(\"Hello Everyone!\")\n",
    "        formula = Tex(r\"$x = \\frac{-b\\pm \\sqrt{b^2-4ac}}{2a}$\")\n",
    "        self.set_speech_service(GTTSService())\n",
    "        with self.voiceover(\"Hello Everyone. In this video we will derive quadratic formula algebrically\"):\n",
    "            self.play(Write(text))\n",
    "            self.wait(2)\n",
    "            self.play(Write(Text(\"Quadratic Formula:\").shift(UP*2)), ReplacementTransform(text, formula.scale(2)))"
   ]
  },
  {
   "cell_type": "markdown",
   "id": "77240564",
   "metadata": {},
   "source": [
    "# General Form"
   ]
  },
  {
   "cell_type": "code",
   "execution_count": 26,
   "id": "989883d6",
   "metadata": {},
   "outputs": [
    {
     "name": "stderr",
     "output_type": "stream",
     "text": [
      "                                                                                                \r"
     ]
    },
    {
     "data": {
      "text/html": [
       "<video src=\"media/jupyter/GeneralForm@2023-05-06@08-33-42.mp4\" controls autoplay loop style=\"max-width: 60%;\"  >\n",
       "      Your browser does not support the <code>video</code> element.\n",
       "    </video>"
      ],
      "text/plain": [
       "<IPython.core.display.Video object>"
      ]
     },
     "metadata": {},
     "output_type": "display_data"
    }
   ],
   "source": [
    "%%manim -qm -v WARNING GeneralForm\n",
    "\n",
    "class GeneralForm(VoiceoverScene):\n",
    "    def construct(self):\n",
    "        self.set_speech_service(GTTSService())\n",
    "        with self.voiceover(\"General form of quadratic equations is, a x squared plus b x plus c equals 0\"):\n",
    "            self.play(Write(Text(\"General Form:\").shift(UP)), Write(Tex(r\"$ax^2 + bx + c = 0$\")))\n",
    "            "
   ]
  },
  {
   "cell_type": "code",
   "execution_count": 54,
   "id": "bb8e50f4",
   "metadata": {},
   "outputs": [
    {
     "name": "stderr",
     "output_type": "stream",
     "text": [
      "                                                                                                                     \r"
     ]
    },
    {
     "data": {
      "text/html": [
       "<video src=\"media/jupyter/Derivation@2023-05-06@09-29-17.mp4\" controls autoplay loop style=\"max-width: 60%;\"  >\n",
       "      Your browser does not support the <code>video</code> element.\n",
       "    </video>"
      ],
      "text/plain": [
       "<IPython.core.display.Video object>"
      ]
     },
     "metadata": {},
     "output_type": "display_data"
    }
   ],
   "source": [
    "%%manim -qm -v WARNING Derivation\n",
    "\n",
    "class Derivation(VoiceoverScene):\n",
    "    def construct(self):\n",
    "        self.set_speech_service(GTTSService())\n",
    "        step1 = Tex(r\"$\\frac{ax^2}{a} + \\frac{bx}{a} + \\frac{c}{a} = 0$\").scale(2)\n",
    "        step2 = Tex(r\"$x^2 + \\frac{bx}{a} = -\\frac{c}{a}$\").scale(2)\n",
    "        step3 = Tex(r\"$x^2 + \\frac{bx}{a} + \\left(\\frac{b}{2a}\\right)^2 = -\\frac{c}{a} + \\left(\\frac{b}{2a}\\right)^2$\").scale(2)\n",
    "        step4 = Tex(r\"$\\left(x + \\frac{b}{2a}\\right)^2 = -\\frac{c}{a} + \\left(\\frac{b}{2a}\\right)^2$\").scale(2)\n",
    "        step5 = Tex(r\"$\\left(x + \\frac{b}{2a}\\right)^2 = \\frac{b^2-4ac}{4a^2}$\").scale(2)\n",
    "        step6 = Tex(r\"$x + \\frac{b}{2a} = \\pm\\sqrt{\\frac{b^2-4ac}{4a^2}}$\").scale(2)\n",
    "        step7 = Tex(r\"$x  = - \\frac{b}{2a}\\pm\\frac{\\sqrt{b^2-4ac}}{2a}$\").scale(2)\n",
    "        step8 = Tex(r\"$x = \\frac{-b\\pm \\sqrt{b^2-4ac}}{2a}$\").scale(2)\n",
    "        \n",
    "        with self.voiceover(f\"\"\"Dividing all terms of general form by A.\n",
    "                                And isolating constant term.\n",
    "                                Now we add b by 2 A whole squared on both sides of equation.\n",
    "                                writing left hand side as perfect square.\n",
    "                                Solving right hand side.\n",
    "                                Taking Square root on both sides.\n",
    "                                Now we solve for x.\n",
    "                                Therefore we have x equals minus b plus minus square root of b square minus 4 A c all over 2 A\"\"\"):\n",
    "            self.play(Write(step1))\n",
    "            self.wait(1)\n",
    "            self.clear()\n",
    "            self.play(Write(step2))\n",
    "            self.wait(2)\n",
    "            self.clear()\n",
    "            self.play(Write(step3))\n",
    "            self.wait(3)\n",
    "            self.clear()\n",
    "            self.play(Write(step4))\n",
    "            self.wait(2)\n",
    "            self.clear()\n",
    "            self.play(Write(step5))\n",
    "            self.wait(1)\n",
    "            self.clear()\n",
    "            self.play(Write(step6))\n",
    "            self.clear()\n",
    "            self.play(Write(step7))\n",
    "            self.clear()\n",
    "            self.play(Write(step8))"
   ]
  },
  {
   "cell_type": "code",
   "execution_count": 59,
   "id": "6d0a3f01",
   "metadata": {},
   "outputs": [
    {
     "name": "stderr",
     "output_type": "stream",
     "text": [
      "                                                                                                                     \r"
     ]
    },
    {
     "data": {
      "text/html": [
       "<video src=\"media/jupyter/Main@2023-05-06@09-50-22.mp4\" controls autoplay loop style=\"max-width: 60%;\"  >\n",
       "      Your browser does not support the <code>video</code> element.\n",
       "    </video>"
      ],
      "text/plain": [
       "<IPython.core.display.Video object>"
      ]
     },
     "metadata": {},
     "output_type": "display_data"
    }
   ],
   "source": [
    "%%manim -qm -v WARNING Main\n",
    "\n",
    "class Main(VoiceoverScene):\n",
    "    def construct(self):\n",
    "        text = Text(\"Hello Everyone!\")\n",
    "        formula = Tex(r\"$x = \\frac{-b\\pm \\sqrt{b^2-4ac}}{2a}$\")\n",
    "        self.set_speech_service(GTTSService())\n",
    "        with self.voiceover(\"Hello Everyone. In this video we will derive quadratic formula algebrically\"):\n",
    "            self.play(Write(text))\n",
    "            self.wait(2)\n",
    "            self.play(Write(Text(\"Quadratic Formula:\").shift(UP*2)), ReplacementTransform(text, formula.scale(2)))\n",
    "        \n",
    "        self.clear()\n",
    "        with self.voiceover(\"General form of quadratic equations is, a x squared plus b x plus c equals 0\"):\n",
    "            self.play(Write(Text(\"General Form:\").shift(UP)), Write(Tex(r\"$ax^2 + bx + c = 0$\")))\n",
    "            \n",
    "            \n",
    "        step1 = Tex(r\"$\\frac{ax^2}{a} + \\frac{bx}{a} + \\frac{c}{a} = 0$\").scale(2)\n",
    "        step2 = Tex(r\"$x^2 + \\frac{bx}{a} = -\\frac{c}{a}$\").scale(2)\n",
    "        step3 = Tex(r\"$x^2 + \\frac{bx}{a} + \\left(\\frac{b}{2a}\\right)^2 = -\\frac{c}{a} + \\left(\\frac{b}{2a}\\right)^2$\").scale(2)\n",
    "        step4 = Tex(r\"$\\left(x + \\frac{b}{2a}\\right)^2 = -\\frac{c}{a} + \\left(\\frac{b}{2a}\\right)^2$\").scale(2)\n",
    "        step5 = Tex(r\"$\\left(x + \\frac{b}{2a}\\right)^2 = \\frac{b^2-4ac}{4a^2}$\").scale(2)\n",
    "        step6 = Tex(r\"$x + \\frac{b}{2a} = \\pm\\sqrt{\\frac{b^2-4ac}{4a^2}}$\").scale(2)\n",
    "        step7 = Tex(r\"$x  = - \\frac{b}{2a}\\pm\\frac{\\sqrt{b^2-4ac}}{2a}$\").scale(2)\n",
    "        step8 = Tex(r\"$x = \\frac{-b\\pm \\sqrt{b^2-4ac}}{2a}$\").scale(2)\n",
    "        \n",
    "        self.clear()\n",
    "        with self.voiceover(f\"\"\"Dividing all terms of general form by A.\n",
    "                                And isolating constant term.\n",
    "                                Now we add b by 2 A whole squared on both sides of equation.\n",
    "                                writing left hand side as perfect square.\n",
    "                                Solving right hand side.\n",
    "                                Taking Square root on both sides.\n",
    "                                Now we solve for x.\n",
    "                                Therefore we have x equals minus b plus minus square root of b square minus 4 A c all over 2 A\"\"\"):\n",
    "            self.play(Write(step1))\n",
    "            self.wait(1)\n",
    "            self.clear()\n",
    "            self.play(Write(step2))\n",
    "            self.wait(2)\n",
    "            self.clear()\n",
    "            self.play(Write(step3))\n",
    "            self.wait(3)\n",
    "            self.clear()\n",
    "            self.play(Write(step4))\n",
    "            self.wait(2)\n",
    "            self.clear()\n",
    "            self.play(Write(step5))\n",
    "            self.wait(1)\n",
    "            self.clear()\n",
    "            self.play(Write(step6))\n",
    "            self.clear()\n",
    "            self.play(Write(step7))\n",
    "            self.clear()\n",
    "            self.play(Write(step8))\n",
    "            "
   ]
  }
 ],
 "metadata": {
  "kernelspec": {
   "display_name": "Python 3 (ipykernel)",
   "language": "python",
   "name": "python3"
  },
  "language_info": {
   "codemirror_mode": {
    "name": "ipython",
    "version": 3
   },
   "file_extension": ".py",
   "mimetype": "text/x-python",
   "name": "python",
   "nbconvert_exporter": "python",
   "pygments_lexer": "ipython3",
   "version": "3.8.16"
  }
 },
 "nbformat": 4,
 "nbformat_minor": 5
}
