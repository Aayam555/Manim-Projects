{
 "cells": [
  {
   "cell_type": "code",
   "execution_count": 48,
   "id": "a5d2ba39",
   "metadata": {},
   "outputs": [],
   "source": [
    "from manim import *\n",
    "from manim_voiceover import VoiceoverScene\n",
    "from manim_voiceover.services.gtts import GTTSService"
   ]
  },
  {
   "cell_type": "markdown",
   "id": "e3e5f224",
   "metadata": {},
   "source": [
    "<h1>Sum Rule</h1>"
   ]
  },
  {
   "cell_type": "code",
   "execution_count": 86,
   "id": "604d8b12",
   "metadata": {},
   "outputs": [
    {
     "name": "stderr",
     "output_type": "stream",
     "text": [
      "                                                                                                       \r"
     ]
    },
    {
     "data": {
      "text/html": [
       "<video src=\"media/jupyter/SumRule@2023-05-05@12-47-04.mp4\" controls autoplay loop style=\"max-width: 60%;\"  >\n",
       "      Your browser does not support the <code>video</code> element.\n",
       "    </video>"
      ],
      "text/plain": [
       "<IPython.core.display.Video object>"
      ]
     },
     "metadata": {},
     "output_type": "display_data"
    }
   ],
   "source": [
    "%%manim -qm -v WARNING SumRule\n",
    "\n",
    "class SumRule(VoiceoverScene):\n",
    "    def construct(self):\n",
    "        self.set_speech_service(GTTSService())\n",
    "        functions_text = Text(\"f(x) & g(x)\")\n",
    "        \n",
    "        with self.voiceover(\"Sum Rule. If you have two functions f of x and g of x, derivative of sum of these functions we do derivative of f plus g equals derivative of f plus derivative of g\"):\n",
    "            self.play(Write(Text(\"Sum Rule\")))\n",
    "            self.wait(1)\n",
    "            self.clear()\n",
    "            self.play(Text(\"Sum Rule\").animate().shift(UP*3))\n",
    "            self.play(Write(functions_text))\n",
    "            self.wait(3)\n",
    "            self.play(ReplacementTransform(functions_text, Tex(r\"$\\frac{d}{dx}\\left[f(x)+g(x)\\right] = f'(x) + g'(x)$\")))\n",
    "            \n",
    "            "
   ]
  },
  {
   "cell_type": "markdown",
   "id": "0725a935",
   "metadata": {},
   "source": [
    "<h1>Power Rule</h1>"
   ]
  },
  {
   "cell_type": "code",
   "execution_count": null,
   "id": "5ef2dcd9",
   "metadata": {},
   "outputs": [],
   "source": []
  }
 ],
 "metadata": {
  "kernelspec": {
   "display_name": "Python 3 (ipykernel)",
   "language": "python",
   "name": "python3"
  },
  "language_info": {
   "codemirror_mode": {
    "name": "ipython",
    "version": 3
   },
   "file_extension": ".py",
   "mimetype": "text/x-python",
   "name": "python",
   "nbconvert_exporter": "python",
   "pygments_lexer": "ipython3",
   "version": "3.8.16"
  }
 },
 "nbformat": 4,
 "nbformat_minor": 5
}
