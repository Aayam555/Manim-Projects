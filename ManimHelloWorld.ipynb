{
 "cells": [
  {
   "cell_type": "code",
   "execution_count": 2,
   "id": "c9026b49",
   "metadata": {},
   "outputs": [],
   "source": [
    "from manim import *\n",
    "from manim_voiceover import VoiceoverScene\n",
    "from manim_voiceover.services.gtts import GTTSService"
   ]
  },
  {
   "cell_type": "code",
   "execution_count": 3,
   "id": "083bda7f",
   "metadata": {},
   "outputs": [
    {
     "name": "stderr",
     "output_type": "stream",
     "text": [
      "                                                                                                                     \r"
     ]
    },
    {
     "data": {
      "text/html": [
       "<video src=\"media/jupyter/Intro@2023-05-05@09-14-17.mp4\" controls autoplay loop style=\"max-width: 60%;\"  >\n",
       "      Your browser does not support the <code>video</code> element.\n",
       "    </video>"
      ],
      "text/plain": [
       "<IPython.core.display.Video object>"
      ]
     },
     "metadata": {},
     "output_type": "display_data"
    }
   ],
   "source": [
    "%%manim -qm -v WARNING Intro\n",
    "\n",
    "class Intro(VoiceoverScene):\n",
    "    def construct(self):\n",
    "        self.set_speech_service(GTTSService())\n",
    "        with self.voiceover(\"Hello Everyone.Today I will show you what I have learned in my Electricity and Magnetism Class.\",):\n",
    "            hello_text = Text(\"Hello Everyone\")\n",
    "            Columb_law_1 = Tex(r\"$F=k \\frac{q_1.q_2}{r^2}$\")\n",
    "            Columb_law_2 = Tex(r\"$F=\\frac{1}{4\\pi \\epsilon_o} \\frac{q_1.q_2}{r^2}$\")\n",
    "            self.play(Write(hello_text))\n",
    "            self.play(ReplacementTransform(hello_text, Columb_law_1))\n",
    "            self.play(ReplacementTransform(Columb_law_1, Columb_law_2), run_time=1)"
   ]
  },
  {
   "cell_type": "code",
   "execution_count": 10,
   "id": "339440ec",
   "metadata": {},
   "outputs": [
    {
     "name": "stderr",
     "output_type": "stream",
     "text": [
      "                                                                                      \r"
     ]
    },
    {
     "data": {
      "text/html": [
       "<video src=\"media/jupyter/ElectrostaticForce@2023-05-05@09-19-20.mp4\" controls autoplay loop style=\"max-width: 60%;\"  >\n",
       "      Your browser does not support the <code>video</code> element.\n",
       "    </video>"
      ],
      "text/plain": [
       "<IPython.core.display.Video object>"
      ]
     },
     "metadata": {},
     "output_type": "display_data"
    }
   ],
   "source": [
    "%%manim -qm -v WARNING ElectrostaticForce\n",
    "\n",
    "class ElectrostaticForce(VoiceoverScene):\n",
    "  def construct(self):\n",
    "    self.set_speech_service(GTTSService())\n",
    "    with self.voiceover(\"Electrostatic Force is\"):\n",
    "      self.play(Write(Text(\"Electrostatic Force\")))\n",
    "        \n",
    "    with self.voiceover(\"repulsive\"):\n",
    "      particle1 = Dot(color=BLUE, radius=1)\n",
    "      particle2 = Dot(color=BLUE, radius=1)\n",
    "      particle1_charge = Text(\"+ve\")\n",
    "      particle2_charge = Text(\"+ve\")\n",
    "\n",
    "      self.add(particle1.shift(3*LEFT))\n",
    "      self.add(particle2.shift(3*RIGHT))\n",
    "      self.add(particle1_charge.shift(3*RIGHT+1.5*DOWN))\n",
    "      self.add(particle2_charge.shift(3*LEFT+1.5*DOWN))\n",
    "\n",
    "      self.play(particle1.animate().shift(LEFT*6), particle2.animate().shift(RIGHT*6), particle1_charge.animate().shift(RIGHT*6), particle2_charge.animate().shift(LEFT*6))\n",
    "\n",
    "    \n",
    "    with self.voiceover(\"and attractive in nature\"):\n",
    "      particle4 = Dot(color=RED, radius=1)\n",
    "      particle3 = Dot(color=BLUE, radius=1)\n",
    "      particle3_charge = Text(\"-ve\")\n",
    "      particle4_charge = Text(\"+ve\")\n",
    "\n",
    "      self.add(particle3.shift(3*LEFT))\n",
    "      self.add(particle4.shift(3*RIGHT))\n",
    "      self.add(particle3_charge.shift(3*RIGHT+1.5*DOWN))\n",
    "      self.add(particle4_charge.shift(3*LEFT+1.5*DOWN))\n",
    "\n",
    "      self.play(particle3.animate().shift(RIGHT*2), particle4.animate().shift(LEFT*2), particle3_charge.animate().shift(LEFT*2), particle4_charge.animate().shift(RIGHT*2))"
   ]
  }
 ],
 "metadata": {
  "kernelspec": {
   "display_name": "Python 3 (ipykernel)",
   "language": "python",
   "name": "python3"
  },
  "language_info": {
   "codemirror_mode": {
    "name": "ipython",
    "version": 3
   },
   "file_extension": ".py",
   "mimetype": "text/x-python",
   "name": "python",
   "nbconvert_exporter": "python",
   "pygments_lexer": "ipython3",
   "version": "3.8.16"
  }
 },
 "nbformat": 4,
 "nbformat_minor": 5
}
